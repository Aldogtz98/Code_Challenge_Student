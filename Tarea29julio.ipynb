{
  "nbformat": 4,
  "nbformat_minor": 0,
  "metadata": {
    "colab": {
      "name": "Tarea29julio.ipynb",
      "provenance": [],
      "collapsed_sections": [],
      "authorship_tag": "ABX9TyN0zP4gcTfvAuHkWnuSbxVz",
      "include_colab_link": true
    },
    "kernelspec": {
      "name": "python3",
      "display_name": "Python 3"
    },
    "language_info": {
      "name": "python"
    }
  },
  "cells": [
    {
      "cell_type": "markdown",
      "metadata": {
        "id": "view-in-github",
        "colab_type": "text"
      },
      "source": [
        "<a href=\"https://colab.research.google.com/github/Aldogtz98/Code_Challenge_Student/blob/main/Tarea29julio.ipynb\" target=\"_parent\"><img src=\"https://colab.research.google.com/assets/colab-badge.svg\" alt=\"Open In Colab\"/></a>"
      ]
    },
    {
      "cell_type": "code",
      "execution_count": null,
      "metadata": {
        "id": "BgvXRcdpEYd6"
      },
      "outputs": [],
      "source": [
        "import pandas as pd\n",
        "ruta= \"/content/3.22.xlsx\"\n",
        "df = pd.read_excel(ruta)\n",
        "\n",
        "Y = df[\"Variable Y (BVNY)\"]\n",
        "\n",
        "X = df[\"Variable X (IPC)\"]\n",
        "\n",
        "y_media = Y.mean()\n",
        "X_media = X.mean()\n",
        "\n",
        "df[\"(Y-ymedia)\"]  = Y - y_media \n",
        "df[\"(X-xmedia)\"]  = X - X_media \n",
        "\n",
        "df[\"(Y-ymedia)^2\"] = df[\"(Y-ymedia)\"]**2 \n",
        "df[\"(X-xmedia)^2\"] = df[\"(X-xmedia)\"]**2 \n",
        "\n",
        "\n",
        "df[\"(Y-ymedia)*(X-xmedia)\"] = df[\"(Y-ymedia)\"] * df[\"(X-xmedia)\"] \n",
        "\n",
        "numerador_beta = df[\"(Y-ymedia)*(X-xmedia)\"].sum()\n",
        "denomidador_beta = df[\"(X-xmedia)^2\"].sum()"
      ]
    },
    {
      "cell_type": "code",
      "source": [
        "df.head()"
      ],
      "metadata": {
        "colab": {
          "base_uri": "https://localhost:8080/",
          "height": 288
        },
        "id": "dKNdm-7UFHQv",
        "outputId": "665419d4-2bcb-4776-a188-b5504f9a868b"
      },
      "execution_count": null,
      "outputs": [
        {
          "output_type": "execute_result",
          "data": {
            "text/plain": [
              "       ID  Variable Y (BVNY)  Variable X (IPC)  Variable Y (oro)   (Y-ymedia)  \\\n",
              "0  1974.0             463.54              49.3            159.26 -2497.653636   \n",
              "1  1975.0             483.55              53.8            161.02 -2477.643636   \n",
              "2  1976.0             575.85              56.9            124.84 -2385.343636   \n",
              "3  1977.0             567.66              60.6            157.71 -2393.533636   \n",
              "4  1978.0             567.81              65.2            193.22 -2393.383636   \n",
              "\n",
              "   (X-xmedia)  (Y-ymedia)^2  (X-xmedia)^2  (Y-ymedia)*(X-xmedia)  \n",
              "0  -78.066667  6.238274e+06   6094.404444          194983.493879  \n",
              "1  -73.566667  6.138718e+06   5412.054444          182271.983515  \n",
              "2  -70.466667  5.689864e+06   4965.551111          168087.214909  \n",
              "3  -66.766667  5.729003e+06   4457.787778          159808.262455  \n",
              "4  -62.166667  5.728285e+06   3864.694444          148788.682727  "
            ],
            "text/html": [
              "\n",
              "  <div id=\"df-7b79ba7b-e424-4a71-a2d9-e92e4f697bea\">\n",
              "    <div class=\"colab-df-container\">\n",
              "      <div>\n",
              "<style scoped>\n",
              "    .dataframe tbody tr th:only-of-type {\n",
              "        vertical-align: middle;\n",
              "    }\n",
              "\n",
              "    .dataframe tbody tr th {\n",
              "        vertical-align: top;\n",
              "    }\n",
              "\n",
              "    .dataframe thead th {\n",
              "        text-align: right;\n",
              "    }\n",
              "</style>\n",
              "<table border=\"1\" class=\"dataframe\">\n",
              "  <thead>\n",
              "    <tr style=\"text-align: right;\">\n",
              "      <th></th>\n",
              "      <th>ID</th>\n",
              "      <th>Variable Y (BVNY)</th>\n",
              "      <th>Variable X (IPC)</th>\n",
              "      <th>Variable Y (oro)</th>\n",
              "      <th>(Y-ymedia)</th>\n",
              "      <th>(X-xmedia)</th>\n",
              "      <th>(Y-ymedia)^2</th>\n",
              "      <th>(X-xmedia)^2</th>\n",
              "      <th>(Y-ymedia)*(X-xmedia)</th>\n",
              "    </tr>\n",
              "  </thead>\n",
              "  <tbody>\n",
              "    <tr>\n",
              "      <th>0</th>\n",
              "      <td>1974.0</td>\n",
              "      <td>463.54</td>\n",
              "      <td>49.3</td>\n",
              "      <td>159.26</td>\n",
              "      <td>-2497.653636</td>\n",
              "      <td>-78.066667</td>\n",
              "      <td>6.238274e+06</td>\n",
              "      <td>6094.404444</td>\n",
              "      <td>194983.493879</td>\n",
              "    </tr>\n",
              "    <tr>\n",
              "      <th>1</th>\n",
              "      <td>1975.0</td>\n",
              "      <td>483.55</td>\n",
              "      <td>53.8</td>\n",
              "      <td>161.02</td>\n",
              "      <td>-2477.643636</td>\n",
              "      <td>-73.566667</td>\n",
              "      <td>6.138718e+06</td>\n",
              "      <td>5412.054444</td>\n",
              "      <td>182271.983515</td>\n",
              "    </tr>\n",
              "    <tr>\n",
              "      <th>2</th>\n",
              "      <td>1976.0</td>\n",
              "      <td>575.85</td>\n",
              "      <td>56.9</td>\n",
              "      <td>124.84</td>\n",
              "      <td>-2385.343636</td>\n",
              "      <td>-70.466667</td>\n",
              "      <td>5.689864e+06</td>\n",
              "      <td>4965.551111</td>\n",
              "      <td>168087.214909</td>\n",
              "    </tr>\n",
              "    <tr>\n",
              "      <th>3</th>\n",
              "      <td>1977.0</td>\n",
              "      <td>567.66</td>\n",
              "      <td>60.6</td>\n",
              "      <td>157.71</td>\n",
              "      <td>-2393.533636</td>\n",
              "      <td>-66.766667</td>\n",
              "      <td>5.729003e+06</td>\n",
              "      <td>4457.787778</td>\n",
              "      <td>159808.262455</td>\n",
              "    </tr>\n",
              "    <tr>\n",
              "      <th>4</th>\n",
              "      <td>1978.0</td>\n",
              "      <td>567.81</td>\n",
              "      <td>65.2</td>\n",
              "      <td>193.22</td>\n",
              "      <td>-2393.383636</td>\n",
              "      <td>-62.166667</td>\n",
              "      <td>5.728285e+06</td>\n",
              "      <td>3864.694444</td>\n",
              "      <td>148788.682727</td>\n",
              "    </tr>\n",
              "  </tbody>\n",
              "</table>\n",
              "</div>\n",
              "      <button class=\"colab-df-convert\" onclick=\"convertToInteractive('df-7b79ba7b-e424-4a71-a2d9-e92e4f697bea')\"\n",
              "              title=\"Convert this dataframe to an interactive table.\"\n",
              "              style=\"display:none;\">\n",
              "        \n",
              "  <svg xmlns=\"http://www.w3.org/2000/svg\" height=\"24px\"viewBox=\"0 0 24 24\"\n",
              "       width=\"24px\">\n",
              "    <path d=\"M0 0h24v24H0V0z\" fill=\"none\"/>\n",
              "    <path d=\"M18.56 5.44l.94 2.06.94-2.06 2.06-.94-2.06-.94-.94-2.06-.94 2.06-2.06.94zm-11 1L8.5 8.5l.94-2.06 2.06-.94-2.06-.94L8.5 2.5l-.94 2.06-2.06.94zm10 10l.94 2.06.94-2.06 2.06-.94-2.06-.94-.94-2.06-.94 2.06-2.06.94z\"/><path d=\"M17.41 7.96l-1.37-1.37c-.4-.4-.92-.59-1.43-.59-.52 0-1.04.2-1.43.59L10.3 9.45l-7.72 7.72c-.78.78-.78 2.05 0 2.83L4 21.41c.39.39.9.59 1.41.59.51 0 1.02-.2 1.41-.59l7.78-7.78 2.81-2.81c.8-.78.8-2.07 0-2.86zM5.41 20L4 18.59l7.72-7.72 1.47 1.35L5.41 20z\"/>\n",
              "  </svg>\n",
              "      </button>\n",
              "      \n",
              "  <style>\n",
              "    .colab-df-container {\n",
              "      display:flex;\n",
              "      flex-wrap:wrap;\n",
              "      gap: 12px;\n",
              "    }\n",
              "\n",
              "    .colab-df-convert {\n",
              "      background-color: #E8F0FE;\n",
              "      border: none;\n",
              "      border-radius: 50%;\n",
              "      cursor: pointer;\n",
              "      display: none;\n",
              "      fill: #1967D2;\n",
              "      height: 32px;\n",
              "      padding: 0 0 0 0;\n",
              "      width: 32px;\n",
              "    }\n",
              "\n",
              "    .colab-df-convert:hover {\n",
              "      background-color: #E2EBFA;\n",
              "      box-shadow: 0px 1px 2px rgba(60, 64, 67, 0.3), 0px 1px 3px 1px rgba(60, 64, 67, 0.15);\n",
              "      fill: #174EA6;\n",
              "    }\n",
              "\n",
              "    [theme=dark] .colab-df-convert {\n",
              "      background-color: #3B4455;\n",
              "      fill: #D2E3FC;\n",
              "    }\n",
              "\n",
              "    [theme=dark] .colab-df-convert:hover {\n",
              "      background-color: #434B5C;\n",
              "      box-shadow: 0px 1px 3px 1px rgba(0, 0, 0, 0.15);\n",
              "      filter: drop-shadow(0px 1px 2px rgba(0, 0, 0, 0.3));\n",
              "      fill: #FFFFFF;\n",
              "    }\n",
              "  </style>\n",
              "\n",
              "      <script>\n",
              "        const buttonEl =\n",
              "          document.querySelector('#df-7b79ba7b-e424-4a71-a2d9-e92e4f697bea button.colab-df-convert');\n",
              "        buttonEl.style.display =\n",
              "          google.colab.kernel.accessAllowed ? 'block' : 'none';\n",
              "\n",
              "        async function convertToInteractive(key) {\n",
              "          const element = document.querySelector('#df-7b79ba7b-e424-4a71-a2d9-e92e4f697bea');\n",
              "          const dataTable =\n",
              "            await google.colab.kernel.invokeFunction('convertToInteractive',\n",
              "                                                     [key], {});\n",
              "          if (!dataTable) return;\n",
              "\n",
              "          const docLinkHtml = 'Like what you see? Visit the ' +\n",
              "            '<a target=\"_blank\" href=https://colab.research.google.com/notebooks/data_table.ipynb>data table notebook</a>'\n",
              "            + ' to learn more about interactive tables.';\n",
              "          element.innerHTML = '';\n",
              "          dataTable['output_type'] = 'display_data';\n",
              "          await google.colab.output.renderOutput(dataTable, element);\n",
              "          const docLink = document.createElement('div');\n",
              "          docLink.innerHTML = docLinkHtml;\n",
              "          element.appendChild(docLink);\n",
              "        }\n",
              "      </script>\n",
              "    </div>\n",
              "  </div>\n",
              "  "
            ]
          },
          "metadata": {},
          "execution_count": 5
        }
      ]
    },
    {
      "cell_type": "markdown",
      "source": [
        "Para calcular Beta se emplea la ecuacion \n",
        "\n",
        "∑ (Xi-xmedia)(yi-ymedia)/(X-xmedia^2)\n",
        "\n",
        "\n"
      ],
      "metadata": {
        "id": "ZgHoj8P7HE0K"
      }
    },
    {
      "cell_type": "code",
      "source": [
        "Beta = numerador_beta/denomidador_beta\n",
        "Alfa = y_media - Beta*X_media\n",
        "print(\"Beta es igual a : \",Beta)\n",
        "print(\"Alfa es igual a : \",Alfa)"
      ],
      "metadata": {
        "colab": {
          "base_uri": "https://localhost:8080/"
        },
        "id": "NI0MSFADHEaL",
        "outputId": "c5145d07-7d9f-4d76-f3b8-dea67116cc10"
      },
      "execution_count": null,
      "outputs": [
        {
          "output_type": "stream",
          "name": "stdout",
          "text": [
            "Beta es igual a :  50.297191465939314\n",
            "Alfa es igual a :  -3444.9919833481663\n"
          ]
        }
      ]
    },
    {
      "cell_type": "markdown",
      "source": [
        "**Estimador de  BVNY **\n"
      ],
      "metadata": {
        "id": "N-0jYVPzNGUH"
      }
    },
    {
      "cell_type": "code",
      "source": [
        "print(\"Estimador BVNY=\"+str(Alfa)+\" + \"+str(Beta)+\"(INPC)\")"
      ],
      "metadata": {
        "colab": {
          "base_uri": "https://localhost:8080/"
        },
        "id": "MXexc1hoNFyy",
        "outputId": "c8792af7-b3d3-4b0d-ec61-64bd7ec46cfb"
      },
      "execution_count": null,
      "outputs": [
        {
          "output_type": "stream",
          "name": "stdout",
          "text": [
            "Estimador BVNY=-3444.9919833481663 + 50.297191465939314(INPC)\n"
          ]
        }
      ]
    },
    {
      "cell_type": "markdown",
      "source": [
        "**Regresion**"
      ],
      "metadata": {
        "id": "bD2EMww4ONn_"
      }
    },
    {
      "cell_type": "code",
      "source": [
        "import matplotlib.pyplot as plt\n",
        "import numpy as np\n",
        "#INPC Y BVNY\n",
        "plt.scatter(X,Y)\n"
      ],
      "metadata": {
        "colab": {
          "base_uri": "https://localhost:8080/",
          "height": 283
        },
        "id": "xmcfrIf7OMKw",
        "outputId": "2f0a4361-4507-4598-c2ab-053beb51e235"
      },
      "execution_count": null,
      "outputs": [
        {
          "output_type": "execute_result",
          "data": {
            "text/plain": [
              "<matplotlib.collections.PathCollection at 0x7f37a8431d10>"
            ]
          },
          "metadata": {},
          "execution_count": 8
        },
        {
          "output_type": "display_data",
          "data": {
            "text/plain": [
              "<Figure size 432x288 with 1 Axes>"
            ],
            "image/png": "[encoded data removed]"
          },
          "metadata": {
            "needs_background": "light"
          }
        }
      ]
    },
    {
      "cell_type": "markdown",
      "source": [
        "ORO E INPC"
      ],
      "metadata": {
        "id": "hKrSAustXSU8"
      }
    },
    {
      "cell_type": "code",
      "execution_count": null,
      "metadata": {
        "id": "UcKnVH41XOh9"
      },
      "outputs": [],
      "source": [
        "\n",
        "\n",
        "Y2 = df[\"Variable Y (oro)\"]\n",
        "\n",
        "\n",
        "y_media = Y2.mean()\n",
        "X_media = X.mean()\n",
        "\n",
        "df[\"(Y-ymedia)\"]  = Y2 - y_media \n",
        "df[\"(X-xmedia)\"]  = X - X_media \n",
        "\n",
        "df[\"(Y-ymedia)^2\"] = df[\"(Y-ymedia)\"]**2 \n",
        "df[\"(X-xmedia)^2\"] = df[\"(X-xmedia)\"]**2 \n",
        "\n",
        "\n",
        "df[\"(Y-ymedia)*(X-xmedia)\"] = df[\"(Y-ymedia)\"] * df[\"(X-xmedia)\"] \n",
        "\n",
        "numerador_beta = df[\"(Y-ymedia)*(X-xmedia)\"].sum()\n",
        "denomidador_beta = df[\"(X-xmedia)^2\"].sum()"
      ]
    },
    {
      "cell_type": "code",
      "source": [
        "df.head()"
      ],
      "metadata": {
        "colab": {
          "base_uri": "https://localhost:8080/",
          "height": 288
        },
        "id": "U7-_OFXIZUor",
        "outputId": "56ea14c5-199e-4759-b1d0-4a8d3ae43f8e"
      },
      "execution_count": null,
      "outputs": [
        {
          "output_type": "execute_result",
          "data": {
            "text/plain": [
              "       ID  Variable Y (BVNY)  Variable X (IPC)  Variable Y (oro)  (Y-ymedia)  \\\n",
              "0  1974.0             463.54              49.3            159.26 -188.680909   \n",
              "1  1975.0             483.55              53.8            161.02 -186.920909   \n",
              "2  1976.0             575.85              56.9            124.84 -223.100909   \n",
              "3  1977.0             567.66              60.6            157.71 -190.230909   \n",
              "4  1978.0             567.81              65.2            193.22 -154.720909   \n",
              "\n",
              "   (X-xmedia)  (Y-ymedia)^2  (X-xmedia)^2  (Y-ymedia)*(X-xmedia)  \n",
              "0  -78.066667  35600.485455   6094.404444           14729.689636  \n",
              "1  -73.566667  34939.426255   5412.054444           13751.148212  \n",
              "2  -70.466667  49774.015637   4965.551111           15721.177394  \n",
              "3  -66.766667  36187.798774   4457.787778           12701.083697  \n",
              "4  -62.166667  23938.559710   3864.694444            9618.483182  "
            ],
            "text/html": [
              "\n",
              "  <div id=\"df-b37c752f-eb5e-4c09-b89f-12b6be35ee82\">\n",
              "    <div class=\"colab-df-container\">\n",
              "      <div>\n",
              "<style scoped>\n",
              "    .dataframe tbody tr th:only-of-type {\n",
              "        vertical-align: middle;\n",
              "    }\n",
              "\n",
              "    .dataframe tbody tr th {\n",
              "        vertical-align: top;\n",
              "    }\n",
              "\n",
              "    .dataframe thead th {\n",
              "        text-align: right;\n",
              "    }\n",
              "</style>\n",
              "<table border=\"1\" class=\"dataframe\">\n",
              "  <thead>\n",
              "    <tr style=\"text-align: right;\">\n",
              "      <th></th>\n",
              "      <th>ID</th>\n",
              "      <th>Variable Y (BVNY)</th>\n",
              "      <th>Variable X (IPC)</th>\n",
              "      <th>Variable Y (oro)</th>\n",
              "      <th>(Y-ymedia)</th>\n",
              "      <th>(X-xmedia)</th>\n",
              "      <th>(Y-ymedia)^2</th>\n",
              "      <th>(X-xmedia)^2</th>\n",
              "      <th>(Y-ymedia)*(X-xmedia)</th>\n",
              "    </tr>\n",
              "  </thead>\n",
              "  <tbody>\n",
              "    <tr>\n",
              "      <th>0</th>\n",
              "      <td>1974.0</td>\n",
              "      <td>463.54</td>\n",
              "      <td>49.3</td>\n",
              "      <td>159.26</td>\n",
              "      <td>-188.680909</td>\n",
              "      <td>-78.066667</td>\n",
              "      <td>35600.485455</td>\n",
              "      <td>6094.404444</td>\n",
              "      <td>14729.689636</td>\n",
              "    </tr>\n",
              "    <tr>\n",
              "      <th>1</th>\n",
              "      <td>1975.0</td>\n",
              "      <td>483.55</td>\n",
              "      <td>53.8</td>\n",
              "      <td>161.02</td>\n",
              "      <td>-186.920909</td>\n",
              "      <td>-73.566667</td>\n",
              "      <td>34939.426255</td>\n",
              "      <td>5412.054444</td>\n",
              "      <td>13751.148212</td>\n",
              "    </tr>\n",
              "    <tr>\n",
              "      <th>2</th>\n",
              "      <td>1976.0</td>\n",
              "      <td>575.85</td>\n",
              "      <td>56.9</td>\n",
              "      <td>124.84</td>\n",
              "      <td>-223.100909</td>\n",
              "      <td>-70.466667</td>\n",
              "      <td>49774.015637</td>\n",
              "      <td>4965.551111</td>\n",
              "      <td>15721.177394</td>\n",
              "    </tr>\n",
              "    <tr>\n",
              "      <th>3</th>\n",
              "      <td>1977.0</td>\n",
              "      <td>567.66</td>\n",
              "      <td>60.6</td>\n",
              "      <td>157.71</td>\n",
              "      <td>-190.230909</td>\n",
              "      <td>-66.766667</td>\n",
              "      <td>36187.798774</td>\n",
              "      <td>4457.787778</td>\n",
              "      <td>12701.083697</td>\n",
              "    </tr>\n",
              "    <tr>\n",
              "      <th>4</th>\n",
              "      <td>1978.0</td>\n",
              "      <td>567.81</td>\n",
              "      <td>65.2</td>\n",
              "      <td>193.22</td>\n",
              "      <td>-154.720909</td>\n",
              "      <td>-62.166667</td>\n",
              "      <td>23938.559710</td>\n",
              "      <td>3864.694444</td>\n",
              "      <td>9618.483182</td>\n",
              "    </tr>\n",
              "  </tbody>\n",
              "</table>\n",
              "</div>\n",
              "      <button class=\"colab-df-convert\" onclick=\"convertToInteractive('df-b37c752f-eb5e-4c09-b89f-12b6be35ee82')\"\n",
              "              title=\"Convert this dataframe to an interactive table.\"\n",
              "              style=\"display:none;\">\n",
              "        \n",
              "  <svg xmlns=\"http://www.w3.org/2000/svg\" height=\"24px\"viewBox=\"0 0 24 24\"\n",
              "       width=\"24px\">\n",
              "    <path d=\"M0 0h24v24H0V0z\" fill=\"none\"/>\n",
              "    <path d=\"M18.56 5.44l.94 2.06.94-2.06 2.06-.94-2.06-.94-.94-2.06-.94 2.06-2.06.94zm-11 1L8.5 8.5l.94-2.06 2.06-.94-2.06-.94L8.5 2.5l-.94 2.06-2.06.94zm10 10l.94 2.06.94-2.06 2.06-.94-2.06-.94-.94-2.06-.94 2.06-2.06.94z\"/><path d=\"M17.41 7.96l-1.37-1.37c-.4-.4-.92-.59-1.43-.59-.52 0-1.04.2-1.43.59L10.3 9.45l-7.72 7.72c-.78.78-.78 2.05 0 2.83L4 21.41c.39.39.9.59 1.41.59.51 0 1.02-.2 1.41-.59l7.78-7.78 2.81-2.81c.8-.78.8-2.07 0-2.86zM5.41 20L4 18.59l7.72-7.72 1.47 1.35L5.41 20z\"/>\n",
              "  </svg>\n",
              "      </button>\n",
              "      \n",
              "  <style>\n",
              "    .colab-df-container {\n",
              "      display:flex;\n",
              "      flex-wrap:wrap;\n",
              "      gap: 12px;\n",
              "    }\n",
              "\n",
              "    .colab-df-convert {\n",
              "      background-color: #E8F0FE;\n",
              "      border: none;\n",
              "      border-radius: 50%;\n",
              "      cursor: pointer;\n",
              "      display: none;\n",
              "      fill: #1967D2;\n",
              "      height: 32px;\n",
              "      padding: 0 0 0 0;\n",
              "      width: 32px;\n",
              "    }\n",
              "\n",
              "    .colab-df-convert:hover {\n",
              "      background-color: #E2EBFA;\n",
              "      box-shadow: 0px 1px 2px rgba(60, 64, 67, 0.3), 0px 1px 3px 1px rgba(60, 64, 67, 0.15);\n",
              "      fill: #174EA6;\n",
              "    }\n",
              "\n",
              "    [theme=dark] .colab-df-convert {\n",
              "      background-color: #3B4455;\n",
              "      fill: #D2E3FC;\n",
              "    }\n",
              "\n",
              "    [theme=dark] .colab-df-convert:hover {\n",
              "      background-color: #434B5C;\n",
              "      box-shadow: 0px 1px 3px 1px rgba(0, 0, 0, 0.15);\n",
              "      filter: drop-shadow(0px 1px 2px rgba(0, 0, 0, 0.3));\n",
              "      fill: #FFFFFF;\n",
              "    }\n",
              "  </style>\n",
              "\n",
              "      <script>\n",
              "        const buttonEl =\n",
              "          document.querySelector('#df-b37c752f-eb5e-4c09-b89f-12b6be35ee82 button.colab-df-convert');\n",
              "        buttonEl.style.display =\n",
              "          google.colab.kernel.accessAllowed ? 'block' : 'none';\n",
              "\n",
              "        async function convertToInteractive(key) {\n",
              "          const element = document.querySelector('#df-b37c752f-eb5e-4c09-b89f-12b6be35ee82');\n",
              "          const dataTable =\n",
              "            await google.colab.kernel.invokeFunction('convertToInteractive',\n",
              "                                                     [key], {});\n",
              "          if (!dataTable) return;\n",
              "\n",
              "          const docLinkHtml = 'Like what you see? Visit the ' +\n",
              "            '<a target=\"_blank\" href=https://colab.research.google.com/notebooks/data_table.ipynb>data table notebook</a>'\n",
              "            + ' to learn more about interactive tables.';\n",
              "          element.innerHTML = '';\n",
              "          dataTable['output_type'] = 'display_data';\n",
              "          await google.colab.output.renderOutput(dataTable, element);\n",
              "          const docLink = document.createElement('div');\n",
              "          docLink.innerHTML = docLinkHtml;\n",
              "          element.appendChild(docLink);\n",
              "        }\n",
              "      </script>\n",
              "    </div>\n",
              "  </div>\n",
              "  "
            ]
          },
          "metadata": {},
          "execution_count": 10
        }
      ]
    },
    {
      "cell_type": "markdown",
      "source": [
        "Para calcular Beta se emplea la ecuacion \n",
        "\n",
        "∑ (Xi-xmedia)(yi-ymedia)/(X-xmedia^2)\n",
        "\n",
        "\n"
      ],
      "metadata": {
        "id": "-e4kVUlvZgwI"
      }
    },
    {
      "cell_type": "code",
      "source": [
        "Beta = numerador_beta/denomidador_beta\n",
        "Alfa = y_media - Beta*X_media\n",
        "print(\"Beta es igual a : \",Beta)\n",
        "print(\"Alfa es igual a : \",Alfa)"
      ],
      "metadata": {
        "colab": {
          "base_uri": "https://localhost:8080/"
        },
        "outputId": "c6cd08e2-8246-48e7-973a-3400711fe6f9",
        "id": "mC59Db8MZkBq"
      },
      "execution_count": null,
      "outputs": [
        {
          "output_type": "stream",
          "name": "stdout",
          "text": [
            "Beta es igual a :  1.0298242319483502\n",
            "Alfa es igual a :  216.7756294150875\n"
          ]
        }
      ]
    },
    {
      "cell_type": "markdown",
      "source": [
        "**Estimador de  Oro\n",
        " **\n"
      ],
      "metadata": {
        "id": "s1-wZgsZZ3MP"
      }
    },
    {
      "cell_type": "code",
      "source": [
        "print(\"Estimador ORO = \"+str(Alfa)+\" + \"+str(Beta)+\"(INPC)\")"
      ],
      "metadata": {
        "colab": {
          "base_uri": "https://localhost:8080/"
        },
        "outputId": "c69f757c-9d49-4e6f-d026-a907298374c4",
        "id": "-So9ms5LZ3MQ"
      },
      "execution_count": null,
      "outputs": [
        {
          "output_type": "stream",
          "name": "stdout",
          "text": [
            "Estimador ORO = 216.7756294150875 + 1.0298242319483502(INPC)\n"
          ]
        }
      ]
    },
    {
      "cell_type": "markdown",
      "source": [
        "**Regresion ORO **"
      ],
      "metadata": {
        "id": "7GSJdH1LZ3MS"
      }
    },
    {
      "cell_type": "code",
      "source": [
        "import matplotlib.pyplot as plt\n",
        "import numpy as np\n",
        "\n",
        "#INPC Y ORO\n",
        "plt.scatter(X,Y2)\n"
      ],
      "metadata": {
        "colab": {
          "base_uri": "https://localhost:8080/",
          "height": 283
        },
        "outputId": "d00e855c-cb13-4adc-bed4-b14c5430fd03",
        "id": "gfIQ7lQFZ3MU"
      },
      "execution_count": null,
      "outputs": [
        {
          "output_type": "execute_result",
          "data": {
            "text/plain": [
              "<matplotlib.collections.PathCollection at 0x7f37a83b7090>"
            ]
          },
          "metadata": {},
          "execution_count": 13
        },
        {
          "output_type": "display_data",
          "data": {
            "text/plain": [
              "<Figure size 432x288 with 1 Axes>"
            ],
            "image/png": "[encoded data removed]"
          },
          "metadata": {
            "needs_background": "light"
          }
        }
      ]
    },
    {
      "cell_type": "markdown",
      "source": [
        "DIAGRAMA DE DISPERSION DEL ORO Y DEL BMNY"
      ],
      "metadata": {
        "id": "xNKcB0MGbRHB"
      }
    },
    {
      "cell_type": "code",
      "source": [
        "plt.scatter(X,Y)\n",
        "plt.scatter(X,Y2)"
      ],
      "metadata": {
        "colab": {
          "base_uri": "https://localhost:8080/",
          "height": 283
        },
        "id": "L5vqbjd2bQZy",
        "outputId": "3a65628c-a0b3-4524-d0dd-8629c17538f2"
      },
      "execution_count": null,
      "outputs": [
        {
          "output_type": "execute_result",
          "data": {
            "text/plain": [
              "<matplotlib.collections.PathCollection at 0x7f37a7ec5b50>"
            ]
          },
          "metadata": {},
          "execution_count": 14
        },
        {
          "output_type": "display_data",
          "data": {
            "text/plain": [
              "<Figure size 432x288 with 1 Axes>"
            ],
            "image/png": "[encoded data removed]"
          },
          "metadata": {
            "needs_background": "light"
          }
        }
      ]
    }
  ]
}