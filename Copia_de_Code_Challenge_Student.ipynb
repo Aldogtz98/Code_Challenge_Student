{
  "nbformat": 4,
  "nbformat_minor": 0,
  "metadata": {
    "colab": {
      "name": "Copia de Code_Challenge_Student.ipynb",
      "provenance": [],
      "collapsed_sections": [],
      "include_colab_link": true
    },
    "kernelspec": {
      "name": "python3",
      "display_name": "Python 3"
    },
    "language_info": {
      "name": "python"
    }
  },
  "cells": [
    {
      "cell_type": "markdown",
      "metadata": {
        "id": "view-in-github",
        "colab_type": "text"
      },
      "source": [
        "<a href=\"https://colab.research.google.com/github/Aldogtz98/Code_Challenge_Student/blob/main/Copia_de_Code_Challenge_Student.ipynb\" target=\"_parent\"><img src=\"https://colab.research.google.com/assets/colab-badge.svg\" alt=\"Open In Colab\"/></a>"
      ]
    },
    {
      "cell_type": "markdown",
      "source": [
        "#Data Bootcamp Selection Challenge\n",
        "#####In this challenge you will calculate various KPIs using a car based dataset, each question will have a single correct answer that will be evaluated through automated unit testing. Use the dictionary provided below to fill in your answers, each question will state the format required for the answer and examples are provided so you know how properly fill the answer dictionary. \n",
        "#####**Use the dataset \"as is\" and do not perform any data cleaning or modify it in any way, doing so could make you answer all your questions incorrectly. Do not modify the structure of the answer dictionary.**\n",
        "\n",
        "#####When you finish this challenge please upload both your notebook and your answer dictionary in pickle format to a public github repository submit their URL to the [google form](https://forms.gle/wWysZEMkoZsjB11Y7) that was provided to you.\n",
        "\n",
        "##### Some unit tests are provided at the end of this notebook to help you verify your answers are in the correct format, however they will not test everything.\n",
        "\n",
        "\n",
        "\n"
      ],
      "metadata": {
        "id": "Ab6tQ8XLwqzG"
      }
    },
    {
      "cell_type": "code",
      "execution_count": 245,
      "metadata": {
        "id": "1kj3oTmRvWXi"
      },
      "outputs": [],
      "source": [
        "#Use this dictionary to store your answers in the correct format in the cells below , do not modify the keys\n",
        "answer_dict =  {\"Q1\" : 392.7417,\n",
        "                \"Q2\" : [['Chevrolet', 3643], ['Ford', 2946], ['Dodge', 2360], ['GMC', 2347], ['Toyota', 1836]],\n",
        "                \"Q3\" : ['CNG', 'Diesel', 'Gasoline or E85', 'Gasoline or natural gas','Gasoline or propane', 'Midgrade', 'Premium','Premium Gas or Electricity', 'Premium and Electricity',\"Premium or E85\", 'Regular', 'Regular Gas and Electricity','Regular Gas or Electricity'],\n",
        "                \"Q4\" : [['1-Ton Truck 2WD', 1985, -0.4283009048170594],\n",
        " ['1-Ton Truck 2WD', 1985, -0.4283009048170594],\n",
        " ['1-Ton Truck 2WD', 1986, -0.4283009048170594],\n",
        " ['1-Ton Truck 2WD', 1986, -0.733821019915985],\n",
        " ['1-Ton Truck 2WD', 1987, -0.4283009048170594],\n",
        " ['1-Ton Truck 2WD', 1987, -0.733821019915985],\n",
        " ['1-Ton Truck 2WD', 1988, -0.25262683863517804],\n",
        " ['1-Ton Truck 2WD', 1988, 0.15727931578921378],\n",
        " ['1-Ton Truck 2WD', 1989, -0.058460765486781426]],\n",
        "                \"Q5\" :[[1986.0, 26.0, 0.0],\n",
        " [1987.0, 26.0, 0.0],\n",
        " [1988.0, 25.0, -1.0],\n",
        " [1989.0, 25.0, 0.0],\n",
        " [1999.0, 24.0, -1.0],\n",
        " [2000.0, 24.0, 0.0],\n",
        " [2001.0, 24.0, 0.0],\n",
        " [2002.0, 24.0, 0.0],\n",
        " [2003.0, 24.0, 0.0],\n",
        " [2004.0, 24.0, 0.0],\n",
        " [2005.0, 24.0, 0.0],\n",
        " [2006.0, 24.0, 0.0],\n",
        " [2010.0, 25.0, 1.0],\n",
        " [2011.0, 26.0, 1.0],\n",
        " [2012.0, 26.0, 0.0],\n",
        " [2013.0, 26.0, 0.0],\n",
        " [2015.0, 30.0, 4.0],\n",
        " [2016.0, 30.0, 0.0],\n",
        " [2017.0, 29.0, -1.0]] ,\n",
        "                \"Q6\" : [[\"Toyota\",133.0, 112.0, 200.0, 249.0, 130.0],\n",
        " [\"Ford\",158.0, 129.0, 261.025641025641, 254.0, 167.67924528301887],\n",
        " [\"Volkswagen\",170.0, 209.0, 267.8947368421053, 254.5, 170.90384615384616],\n",
        " [\" Nissan\",171.0, 210.0, 271.0, 255.0, 183.0],\n",
        " [\"Honda\",177.74, 211.0, 275.1351351351352, 257.0, 188.0]]\n",
        ",\n",
        "                \"Q7\" : [[('1984 - 1988'), 19.230849764439014],\n",
        " [('1989 - 1993'), 18.991274313761135],\n",
        " [('1994 - 1998'), 19.225285171102662],\n",
        " [('1999 - 2003'), 19.160808435852374],\n",
        " [('2004 - 2008'), 19.07731595632265],\n",
        " [('2009 - 2013'), 21.006466270534776],\n",
        " [('2014 - 2018'), 23.064912280701755]]}"
      ]
    },
    {
      "cell_type": "markdown",
      "source": [
        "##Reading the dataset\n",
        "#####An example is provided to read the dataset using [pandas](https://pandas.pydata.org/), while we reccommend using pandas you may use any python library to solve this challenge. "
      ],
      "metadata": {
        "id": "Z0pZ4Vlx3VZy"
      }
    },
    {
      "cell_type": "code",
      "source": [
        "import pandas as pd\n",
        "import numpy as np\n",
        "url='https://drive.google.com/file/d/1PCJ7ltluquoXKi6MYTPMfwZQNI_-MIFP/view?usp=sharing'\n",
        "url='https://drive.google.com/uc?id=' + url.split('/')[-2]\n",
        "df = pd.read_csv(url)"
      ],
      "metadata": {
        "id": "7U3UNKSj3oxa"
      },
      "execution_count": 177,
      "outputs": []
    },
    {
      "cell_type": "code",
      "source": [
        "df.head()"
      ],
      "metadata": {
        "id": "J10uW58Qv2B_",
        "outputId": "a92da38e-3001-464e-b92a-c5e7ff292827",
        "colab": {
          "base_uri": "https://localhost:8080/",
          "height": 531
        }
      },
      "execution_count": null,
      "outputs": [
        {
          "output_type": "execute_result",
          "data": {
            "text/plain": [
              "               Make                Model  Year  Engine Displacement  \\\n",
              "0        AM General    DJ Po Vehicle 2WD  1984                  2.5   \n",
              "1        AM General     FJ8c Post Office  1984                  4.2   \n",
              "2        AM General  Post Office DJ5 2WD  1985                  2.5   \n",
              "3        AM General  Post Office DJ8 2WD  1985                  4.2   \n",
              "4  ASC Incorporated                  GNX  1987                  3.8   \n",
              "\n",
              "   Cylinders     Transmission        Drivetrain                Vehicle Class  \\\n",
              "0        4.0  Automatic 3-spd     2-Wheel Drive  Special Purpose Vehicle 2WD   \n",
              "1        6.0  Automatic 3-spd     2-Wheel Drive  Special Purpose Vehicle 2WD   \n",
              "2        4.0  Automatic 3-spd  Rear-Wheel Drive  Special Purpose Vehicle 2WD   \n",
              "3        6.0  Automatic 3-spd  Rear-Wheel Drive  Special Purpose Vehicle 2WD   \n",
              "4        6.0  Automatic 4-spd  Rear-Wheel Drive                 Midsize Cars   \n",
              "\n",
              "  Fuel Type  Fuel Barrels/Year  City MPG  Highway MPG  Combined MPG  \\\n",
              "0   Regular          19.388824        18           17            17   \n",
              "1   Regular          25.354615        13           13            13   \n",
              "2   Regular          20.600625        16           17            16   \n",
              "3   Regular          25.354615        13           13            13   \n",
              "4   Premium          20.600625        14           21            16   \n",
              "\n",
              "   CO2 Emission Grams/Mile  Fuel Cost/Year  \n",
              "0               522.764706            1950  \n",
              "1               683.615385            2550  \n",
              "2               555.437500            2100  \n",
              "3               683.615385            2550  \n",
              "4               555.437500            2550  "
            ],
            "text/html": [
              "\n",
              "  <div id=\"df-ee5c0468-84e2-4ce9-86e1-6fa5d4fe7e31\">\n",
              "    <div class=\"colab-df-container\">\n",
              "      <div>\n",
              "<style scoped>\n",
              "    .dataframe tbody tr th:only-of-type {\n",
              "        vertical-align: middle;\n",
              "    }\n",
              "\n",
              "    .dataframe tbody tr th {\n",
              "        vertical-align: top;\n",
              "    }\n",
              "\n",
              "    .dataframe thead th {\n",
              "        text-align: right;\n",
              "    }\n",
              "</style>\n",
              "<table border=\"1\" class=\"dataframe\">\n",
              "  <thead>\n",
              "    <tr style=\"text-align: right;\">\n",
              "      <th></th>\n",
              "      <th>Make</th>\n",
              "      <th>Model</th>\n",
              "      <th>Year</th>\n",
              "      <th>Engine Displacement</th>\n",
              "      <th>Cylinders</th>\n",
              "      <th>Transmission</th>\n",
              "      <th>Drivetrain</th>\n",
              "      <th>Vehicle Class</th>\n",
              "      <th>Fuel Type</th>\n",
              "      <th>Fuel Barrels/Year</th>\n",
              "      <th>City MPG</th>\n",
              "      <th>Highway MPG</th>\n",
              "      <th>Combined MPG</th>\n",
              "      <th>CO2 Emission Grams/Mile</th>\n",
              "      <th>Fuel Cost/Year</th>\n",
              "    </tr>\n",
              "  </thead>\n",
              "  <tbody>\n",
              "    <tr>\n",
              "      <th>0</th>\n",
              "      <td>AM General</td>\n",
              "      <td>DJ Po Vehicle 2WD</td>\n",
              "      <td>1984</td>\n",
              "      <td>2.5</td>\n",
              "      <td>4.0</td>\n",
              "      <td>Automatic 3-spd</td>\n",
              "      <td>2-Wheel Drive</td>\n",
              "      <td>Special Purpose Vehicle 2WD</td>\n",
              "      <td>Regular</td>\n",
              "      <td>19.388824</td>\n",
              "      <td>18</td>\n",
              "      <td>17</td>\n",
              "      <td>17</td>\n",
              "      <td>522.764706</td>\n",
              "      <td>1950</td>\n",
              "    </tr>\n",
              "    <tr>\n",
              "      <th>1</th>\n",
              "      <td>AM General</td>\n",
              "      <td>FJ8c Post Office</td>\n",
              "      <td>1984</td>\n",
              "      <td>4.2</td>\n",
              "      <td>6.0</td>\n",
              "      <td>Automatic 3-spd</td>\n",
              "      <td>2-Wheel Drive</td>\n",
              "      <td>Special Purpose Vehicle 2WD</td>\n",
              "      <td>Regular</td>\n",
              "      <td>25.354615</td>\n",
              "      <td>13</td>\n",
              "      <td>13</td>\n",
              "      <td>13</td>\n",
              "      <td>683.615385</td>\n",
              "      <td>2550</td>\n",
              "    </tr>\n",
              "    <tr>\n",
              "      <th>2</th>\n",
              "      <td>AM General</td>\n",
              "      <td>Post Office DJ5 2WD</td>\n",
              "      <td>1985</td>\n",
              "      <td>2.5</td>\n",
              "      <td>4.0</td>\n",
              "      <td>Automatic 3-spd</td>\n",
              "      <td>Rear-Wheel Drive</td>\n",
              "      <td>Special Purpose Vehicle 2WD</td>\n",
              "      <td>Regular</td>\n",
              "      <td>20.600625</td>\n",
              "      <td>16</td>\n",
              "      <td>17</td>\n",
              "      <td>16</td>\n",
              "      <td>555.437500</td>\n",
              "      <td>2100</td>\n",
              "    </tr>\n",
              "    <tr>\n",
              "      <th>3</th>\n",
              "      <td>AM General</td>\n",
              "      <td>Post Office DJ8 2WD</td>\n",
              "      <td>1985</td>\n",
              "      <td>4.2</td>\n",
              "      <td>6.0</td>\n",
              "      <td>Automatic 3-spd</td>\n",
              "      <td>Rear-Wheel Drive</td>\n",
              "      <td>Special Purpose Vehicle 2WD</td>\n",
              "      <td>Regular</td>\n",
              "      <td>25.354615</td>\n",
              "      <td>13</td>\n",
              "      <td>13</td>\n",
              "      <td>13</td>\n",
              "      <td>683.615385</td>\n",
              "      <td>2550</td>\n",
              "    </tr>\n",
              "    <tr>\n",
              "      <th>4</th>\n",
              "      <td>ASC Incorporated</td>\n",
              "      <td>GNX</td>\n",
              "      <td>1987</td>\n",
              "      <td>3.8</td>\n",
              "      <td>6.0</td>\n",
              "      <td>Automatic 4-spd</td>\n",
              "      <td>Rear-Wheel Drive</td>\n",
              "      <td>Midsize Cars</td>\n",
              "      <td>Premium</td>\n",
              "      <td>20.600625</td>\n",
              "      <td>14</td>\n",
              "      <td>21</td>\n",
              "      <td>16</td>\n",
              "      <td>555.437500</td>\n",
              "      <td>2550</td>\n",
              "    </tr>\n",
              "  </tbody>\n",
              "</table>\n",
              "</div>\n",
              "      <button class=\"colab-df-convert\" onclick=\"convertToInteractive('df-ee5c0468-84e2-4ce9-86e1-6fa5d4fe7e31')\"\n",
              "              title=\"Convert this dataframe to an interactive table.\"\n",
              "              style=\"display:none;\">\n",
              "        \n",
              "  <svg xmlns=\"http://www.w3.org/2000/svg\" height=\"24px\"viewBox=\"0 0 24 24\"\n",
              "       width=\"24px\">\n",
              "    <path d=\"M0 0h24v24H0V0z\" fill=\"none\"/>\n",
              "    <path d=\"M18.56 5.44l.94 2.06.94-2.06 2.06-.94-2.06-.94-.94-2.06-.94 2.06-2.06.94zm-11 1L8.5 8.5l.94-2.06 2.06-.94-2.06-.94L8.5 2.5l-.94 2.06-2.06.94zm10 10l.94 2.06.94-2.06 2.06-.94-2.06-.94-.94-2.06-.94 2.06-2.06.94z\"/><path d=\"M17.41 7.96l-1.37-1.37c-.4-.4-.92-.59-1.43-.59-.52 0-1.04.2-1.43.59L10.3 9.45l-7.72 7.72c-.78.78-.78 2.05 0 2.83L4 21.41c.39.39.9.59 1.41.59.51 0 1.02-.2 1.41-.59l7.78-7.78 2.81-2.81c.8-.78.8-2.07 0-2.86zM5.41 20L4 18.59l7.72-7.72 1.47 1.35L5.41 20z\"/>\n",
              "  </svg>\n",
              "      </button>\n",
              "      \n",
              "  <style>\n",
              "    .colab-df-container {\n",
              "      display:flex;\n",
              "      flex-wrap:wrap;\n",
              "      gap: 12px;\n",
              "    }\n",
              "\n",
              "    .colab-df-convert {\n",
              "      background-color: #E8F0FE;\n",
              "      border: none;\n",
              "      border-radius: 50%;\n",
              "      cursor: pointer;\n",
              "      display: none;\n",
              "      fill: #1967D2;\n",
              "      height: 32px;\n",
              "      padding: 0 0 0 0;\n",
              "      width: 32px;\n",
              "    }\n",
              "\n",
              "    .colab-df-convert:hover {\n",
              "      background-color: #E2EBFA;\n",
              "      box-shadow: 0px 1px 2px rgba(60, 64, 67, 0.3), 0px 1px 3px 1px rgba(60, 64, 67, 0.15);\n",
              "      fill: #174EA6;\n",
              "    }\n",
              "\n",
              "    [theme=dark] .colab-df-convert {\n",
              "      background-color: #3B4455;\n",
              "      fill: #D2E3FC;\n",
              "    }\n",
              "\n",
              "    [theme=dark] .colab-df-convert:hover {\n",
              "      background-color: #434B5C;\n",
              "      box-shadow: 0px 1px 3px 1px rgba(0, 0, 0, 0.15);\n",
              "      filter: drop-shadow(0px 1px 2px rgba(0, 0, 0, 0.3));\n",
              "      fill: #FFFFFF;\n",
              "    }\n",
              "  </style>\n",
              "\n",
              "      <script>\n",
              "        const buttonEl =\n",
              "          document.querySelector('#df-ee5c0468-84e2-4ce9-86e1-6fa5d4fe7e31 button.colab-df-convert');\n",
              "        buttonEl.style.display =\n",
              "          google.colab.kernel.accessAllowed ? 'block' : 'none';\n",
              "\n",
              "        async function convertToInteractive(key) {\n",
              "          const element = document.querySelector('#df-ee5c0468-84e2-4ce9-86e1-6fa5d4fe7e31');\n",
              "          const dataTable =\n",
              "            await google.colab.kernel.invokeFunction('convertToInteractive',\n",
              "                                                     [key], {});\n",
              "          if (!dataTable) return;\n",
              "\n",
              "          const docLinkHtml = 'Like what you see? Visit the ' +\n",
              "            '<a target=\"_blank\" href=https://colab.research.google.com/notebooks/data_table.ipynb>data table notebook</a>'\n",
              "            + ' to learn more about interactive tables.';\n",
              "          element.innerHTML = '';\n",
              "          dataTable['output_type'] = 'display_data';\n",
              "          await google.colab.output.renderOutput(dataTable, element);\n",
              "          const docLink = document.createElement('div');\n",
              "          docLink.innerHTML = docLinkHtml;\n",
              "          element.appendChild(docLink);\n",
              "        }\n",
              "      </script>\n",
              "    </div>\n",
              "  </div>\n",
              "  "
            ]
          },
          "metadata": {},
          "execution_count": 38
        }
      ]
    },
    {
      "cell_type": "code",
      "source": [
        "df.info()"
      ],
      "metadata": {
        "id": "LutcGEx8v4GY"
      },
      "execution_count": null,
      "outputs": []
    },
    {
      "cell_type": "markdown",
      "source": [
        "##Q1. What is the average CO2 emmission per gram/mile of all Volkswagen cars?\n",
        "\n",
        "##### Format: A floating number\n",
        "##### Example answer:\n",
        " `11.547`"
      ],
      "metadata": {
        "id": "kLRp8K_wnEJG"
      }
    },
    {
      "cell_type": "code",
      "source": [
        "########## Q1\n",
        "#Your code here\n",
        "\n",
        "#Example answer:\n",
        "#answer_dict[\"Q1\"] =  11.547\n",
        "\n",
        "x = df.loc[df.Make == \"Volkswagen\",\"CO2 Emission Grams/Mile\"].mean()\n",
        "print(x)\n",
        "\n",
        "answer_dict[\"Q1\"] =  392.7417\n"
      ],
      "metadata": {
        "id": "jBGXf7RRnEoV",
        "outputId": "359a97ee-852f-47c8-a6f2-0ec411ef2810",
        "colab": {
          "base_uri": "https://localhost:8080/",
          "height": 226
        }
      },
      "execution_count": null,
      "outputs": [
        {
          "output_type": "stream",
          "name": "stdout",
          "text": [
            "392.7417210857633\n"
          ]
        },
        {
          "output_type": "error",
          "ename": "NameError",
          "evalue": "ignored",
          "traceback": [
            "\u001b[0;31m---------------------------------------------------------------------------\u001b[0m",
            "\u001b[0;31mNameError\u001b[0m                                 Traceback (most recent call last)",
            "\u001b[0;32m<ipython-input-8-202f80de5491>\u001b[0m in \u001b[0;36m<module>\u001b[0;34m()\u001b[0m\n\u001b[1;32m      8\u001b[0m \u001b[0mprint\u001b[0m\u001b[0;34m(\u001b[0m\u001b[0mx\u001b[0m\u001b[0;34m)\u001b[0m\u001b[0;34m\u001b[0m\u001b[0;34m\u001b[0m\u001b[0m\n\u001b[1;32m      9\u001b[0m \u001b[0;34m\u001b[0m\u001b[0m\n\u001b[0;32m---> 10\u001b[0;31m \u001b[0manswer_dict\u001b[0m\u001b[0;34m[\u001b[0m\u001b[0;34m\"Q1\"\u001b[0m\u001b[0;34m]\u001b[0m \u001b[0;34m=\u001b[0m  \u001b[0;36m392.7417\u001b[0m\u001b[0;34m\u001b[0m\u001b[0;34m\u001b[0m\u001b[0m\n\u001b[0m",
            "\u001b[0;31mNameError\u001b[0m: name 'answer_dict' is not defined"
          ]
        }
      ]
    },
    {
      "cell_type": "markdown",
      "source": [
        "##Q2. Calculate the top 5 brands(Make) with the most unique models, order your answer in descending order with respect to the number of unique models.\n",
        "##### **NOTE:** Consider only the name of the models and their brand, that is use only the Make and Model columns\n",
        "##### Format: A 5X2 list with each row being the name of the brand followed by the unique number of models, in descending order.\n",
        "#####Hint: You can use the pandas [df.values.tolist()](https://pandas.pydata.org/docs/reference/api/pandas.Series.tolist.html) function to format your answer.\n",
        "\n",
        "##### Example answer: \n",
        "`[[\"Volkswagen\", 1000], [\"Toyota\", 900], [\"Honda\", 800], [\"Subaru\", 700], [\"Ford\", 600]]`"
      ],
      "metadata": {
        "id": "SPNq7yn74kjd"
      }
    },
    {
      "cell_type": "code",
      "source": [
        "########## Q2\n",
        "#Your code here\n",
        "\n",
        "#Example answer:\n",
        "#answer_dict[\"Q2\"] =  [[\"Volkswagen\", 1000], [\"Toyota\", 900], [\"Honda\", 800], [\"Subaru\", 700], [\"Ford\", 600]] \n",
        "\n",
        "\n",
        "Modelos_coche =list(df.Make.unique())\n",
        "lista1 = list()\n",
        "lista2 =list() \n",
        "for row in Modelos_coche:\n",
        "  a = df.loc[df.Make == row,\"Model\"].count()\n",
        "  lista1.append(a)\n",
        "  lista2.append(row)\n",
        "  diccionario = dict(zip(lista2,lista1))\n",
        "diccionario = dict(sorted(diccionario.items(),key=lambda x:x[1],reverse = True))\n",
        "print(diccionario) \n",
        "\n",
        "answer_dict[\"Q2\"] =[['Chevrolet', 3643], ['Ford', 2946], ['Dodge', 2360], ['GMC', 2347], ['Toyota', 1836]]"
      ],
      "metadata": {
        "id": "StipyFue4Dx-",
        "outputId": "64a87100-fa2c-49cf-e41a-e53cbcffafb0",
        "colab": {
          "base_uri": "https://localhost:8080/"
        }
      },
      "execution_count": null,
      "outputs": [
        {
          "output_type": "stream",
          "name": "stdout",
          "text": [
            "{'Chevrolet': 3643, 'Ford': 2946, 'Dodge': 2360, 'GMC': 2347, 'Toyota': 1836, 'BMW': 1677, 'Mercedes-Benz': 1284, 'Nissan': 1253, 'Volkswagen': 1047, 'Mitsubishi': 950, 'Mazda': 915, 'Audi': 890, 'Porsche': 862, 'Honda': 836, 'Jeep': 829, 'Pontiac': 784, 'Subaru': 781, 'Volvo': 717, 'Hyundai': 662, 'Chrysler': 641, 'Buick': 537, 'Mercury': 532, 'Suzuki': 512, 'Cadillac': 508, 'Kia': 493, 'Plymouth': 456, 'Saab': 410, 'Isuzu': 409, 'Lexus': 397, 'Oldsmobile': 376, 'Infiniti': 345, 'Jaguar': 343, 'MINI': 320, 'Acura': 302, 'Saturn': 278, 'Lincoln': 273, 'Ferrari': 208, 'Rolls-Royce': 160, 'Eagle': 156, 'Geo': 144, 'Land Rover': 142, 'Aston Martin': 133, 'Bentley': 116, 'Maserati': 111, 'Lamborghini': 104, 'Scion': 83, 'Peugeot': 74, 'Daewoo': 67, 'Ram': 57, 'Lotus': 53, 'Roush Performance': 53, 'Fiat': 43, 'Alfa Romeo': 41, 'J.K. Motors': 36, 'Renault': 33, 'Wallace Environmental': 32, 'Maybach': 31, 'American Motors Corporation': 22, 'smart': 20, 'Hummer': 19, 'Daihatsu': 17, 'CX Automotive': 16, 'Federal Coach': 14, 'Merkur': 14, 'Import Trade Services': 13, 'McLaren Automotive': 13, 'Spyker': 13, 'Sterling': 12, 'Bugatti': 8, 'Yugo': 8, 'Genesis': 7, 'Mcevoy Motors': 6, 'Tecstar, LP': 6, 'Bertone': 5, 'Saleen': 5, 'VPG': 5, 'AM General': 4, 'Autokraft Limited': 4, 'Grumman Olson': 4, 'Panther Car Company Limited': 4, 'Saleen Performance': 4, 'TVR Engineering Ltd': 4, 'Texas Coach Company': 4, 'Vector': 4, 'BMW Alpina': 3, 'Bitter Gmbh and Co. Kg': 3, 'Consulier Industries Inc': 3, 'Dabryan Coach Builders Inc': 3, 'Dacia': 3, 'Evans Automobiles': 3, 'Morgan': 3, 'Bill Dovell Motor Car Company': 2, 'CCC Engineering': 2, 'Laforza Automobile Inc': 2, 'Mobility Ventures LLC': 2, 'PAS Inc - GMC': 2, 'PAS, Inc': 2, 'Pagani': 2, 'Pininfarina': 2, 'Quantum Technologies': 2, 'Red Shift Ltd.': 2, 'Ruf Automobile Gmbh': 2, 'SRT': 2, 'ASC Incorporated': 1, 'Aurora Cars Ltd': 1, 'E. P. Dutton, Inc.': 1, 'Environmental Rsch and Devp Corp': 1, 'Excalibur Autos': 1, 'Fisker': 1, 'General Motors': 1, 'Goldacre': 1, 'Grumman Allied Industries': 1, 'Import Foreign Auto Sales Inc': 1, 'Isis Imports Ltd': 1, 'JBA Motorcars, Inc.': 1, 'Lambda Control Systems': 1, 'London Coach Co Inc': 1, 'London Taxi': 1, 'Mahindra': 1, 'Panos': 1, 'Panoz Auto-Development': 1, 'Qvale': 1, 'S and S Coach Company  E.p. Dutton': 1, 'Shelby': 1, 'Superior Coaches Div E.p. Dutton': 1, 'Vixen Motor Company': 1, 'Volga Associated Automobile': 1}\n"
          ]
        }
      ]
    },
    {
      "cell_type": "markdown",
      "source": [
        "##Q3. What are all the different types of fuels in the dataset sorted alphabetically?\n",
        "##### Format: A list of strings sorted alphabetically.\n",
        "##### Example Answer: \n",
        "`['Regular',\n",
        " 'Premium']`"
      ],
      "metadata": {
        "id": "EGxv7N15AiLu"
      }
    },
    {
      "cell_type": "code",
      "source": [
        "########## Q3\n",
        "#Your code here\n",
        "\n",
        "#Example answer:\n",
        "#answer_dict[\"Q3\"] =  ['Regular', 'Premium'] \n",
        "\n",
        "a = df.sort_values(\"Fuel Type\",ascending=True)\n",
        "a[\"Fuel Type\"].unique()\n",
        "\n",
        "answer_dict[\"Q3\"] = ['CNG', 'Diesel', 'Gasoline or E85', 'Gasoline or natural gas',\n",
        "       'Gasoline or propane', 'Midgrade', 'Premium',\n",
        "       'Premium Gas or Electricity', 'Premium and Electricity',\n",
        "       'Premium or E85', 'Regular', 'Regular Gas and Electricity',\n",
        "       'Regular Gas or Electricity']"
      ],
      "metadata": {
        "id": "otyDsWpsAjde",
        "colab": {
          "base_uri": "https://localhost:8080/"
        },
        "outputId": "fae56481-fda4-465c-f08f-d46fda40c92e"
      },
      "execution_count": null,
      "outputs": [
        {
          "output_type": "execute_result",
          "data": {
            "text/plain": [
              "array(['CNG', 'Diesel', 'Gasoline or E85', 'Gasoline or natural gas',\n",
              "       'Gasoline or propane', 'Midgrade', 'Premium',\n",
              "       'Premium Gas or Electricity', 'Premium and Electricity',\n",
              "       'Premium or E85', 'Regular', 'Regular Gas and Electricity',\n",
              "       'Regular Gas or Electricity'], dtype=object)"
            ]
          },
          "metadata": {},
          "execution_count": 11
        }
      ]
    },
    {
      "cell_type": "markdown",
      "source": [
        "##Q4. Show the 9 Toyota cars with the most extreme Fuel Barrels/Year in abosolute terms within all Toyota cars. Show the car Model, Year and their Fuel Barrels/Year in standard deviation units([Z-score](https://fredclavel.org/2019/03/18/basics-standardization-and-the-z-score/)) **sorted** in descending order by their Fuel Barrels/Year in absolute terms first and then by year in descending order **BUT** without modifying the negative values (see example).\n",
        "\n",
        "##### Format: A 9X3 list with each row containing the Model, Year and Fuel Barrels/Year in standard deviations units\n",
        "\n",
        "##### Example answer: \n",
        "```\n",
        "[['DJ Po Vehicle 2WD', 2004, -6.407431084026927],\n",
        " ['FJ8c Post Office', 2003, -6.407431084026927],\n",
        " ['Post Office DJ5 2WD', 2005, -6.391684618442447],\n",
        " ['Sierra 2500 Hd 2WD', 2002, -6.391684618442447],\n",
        " ['Camry CNG', 2012, 2.677633075759575],\n",
        " ['Sierra 1500 4WD', 2005, 2.677633075759575],\n",
        " ['Sierra 1500 4WD', 2001, 2.677633075759575],\n",
        " ['V15 Suburban 4WD', 1988, 2.677633075759575],\n",
        " ['V15 Suburban 4WD', 1987, 2.677633075759575]]\n",
        "```\n",
        "#####Note that while the list is sorted by the Fuel Barrels/Year in absolute terms and in standard deviation units, the values are not modified. If the values are the same the rows are sorted by the year.\n"
      ],
      "metadata": {
        "id": "ijpZht03tV5W"
      }
    },
    {
      "cell_type": "code",
      "source": [
        "import pandas as pd\n",
        "import numpy as np\n",
        "url='https://drive.google.com/file/d/1PCJ7ltluquoXKi6MYTPMfwZQNI_-MIFP/view?usp=sharing'\n",
        "url='https://drive.google.com/uc?id=' + url.split('/')[-2]\n",
        "df = pd.read_csv(url)\n",
        "\n",
        "df[\"Desviacion\"] = (df[\"Fuel Barrels/Year\"] - df[\"Fuel Barrels/Year\"].mean())/df[\"Fuel Barrels/Year\"].std()\n",
        "\n",
        "df = df.loc[df.Make == \"Toyota\"]\n",
        "tabla1 = df[[\"Model\",\"Year\",\"Desviacion\"]]\n",
        "\n",
        "tabla1 = tabla1.iloc[0:9]\n",
        "\n",
        "tabla1.values.tolist()\n",
        "\n",
        "\n",
        "\n",
        "\n",
        "\n",
        "\n",
        "\n",
        "\n"
      ],
      "metadata": {
        "id": "de_GgmrFVcvO",
        "colab": {
          "base_uri": "https://localhost:8080/"
        },
        "outputId": "db8a08a8-0f42-42be-903d-fcc92b7b7716"
      },
      "execution_count": 244,
      "outputs": [
        {
          "output_type": "execute_result",
          "data": {
            "text/plain": [
              "[['1-Ton Truck 2WD', 1985, -0.4283009048170594],\n",
              " ['1-Ton Truck 2WD', 1985, -0.4283009048170594],\n",
              " ['1-Ton Truck 2WD', 1986, -0.4283009048170594],\n",
              " ['1-Ton Truck 2WD', 1986, -0.733821019915985],\n",
              " ['1-Ton Truck 2WD', 1987, -0.4283009048170594],\n",
              " ['1-Ton Truck 2WD', 1987, -0.733821019915985],\n",
              " ['1-Ton Truck 2WD', 1988, -0.25262683863517804],\n",
              " ['1-Ton Truck 2WD', 1988, 0.15727931578921378],\n",
              " ['1-Ton Truck 2WD', 1989, -0.058460765486781426]]"
            ]
          },
          "metadata": {},
          "execution_count": 244
        }
      ]
    },
    {
      "cell_type": "code",
      "source": [
        "print(lista)"
      ],
      "metadata": {
        "colab": {
          "base_uri": "https://localhost:8080/"
        },
        "id": "Y7A3IVWQ0E9u",
        "outputId": "5311b6c7-e00b-4be9-f46e-546fefeffe13"
      },
      "execution_count": 212,
      "outputs": [
        {
          "output_type": "stream",
          "name": "stdout",
          "text": [
            "['1-Ton Truck 2WD', '4Runner 2WD', '4Runner 4WD', '86', 'Avalon', 'Avalon Hybrid', 'Cab Chassis 2WD', 'Cab/Chassis', 'Cab/Chassis 2WD', 'Camry', 'Camry CNG', 'Camry Hybrid', 'Camry Hybrid LE', 'Camry Hybrid XLE', 'Camry Hybrid XLE/SE', 'Camry Solara', 'Camry Solara Convertible', 'Camry Wagon', 'Cargo Van 2WD', 'Cargo Van 4WD', 'Celica', 'Celica Convertible', 'Celica Supra', 'Corolla', 'Corolla All-Trac Wagon', 'Corolla FX', 'Corolla LE Eco', 'Corolla Sport', 'Corolla Wagon', 'Corolla iM', 'Cressida', 'Cressida Wagon', 'Echo', 'FJ Cruiser 2WD', 'FJ Cruiser 4WD', 'Highlander 2WD', 'Highlander 4WD', 'Highlander AWD', 'Highlander Hybrid 2WD', 'Highlander Hybrid 4WD', 'Highlander Hybrid 4WD LE Plus', 'Land Cruiser Wagon 4WD', 'MR2', 'Matrix', 'Matrix AWD', 'Paseo', 'Paseo Convertible', 'Previa', 'Previa All-Trac', 'Prius', 'Prius Eco', 'Prius Plug-in Hybrid', 'Prius c', 'Prius v', 'RAV4', 'RAV4 2WD', 'RAV4 4WD', 'RAV4 AWD', 'RAV4 Hybrid AWD', 'RAV4 LE/XLE', 'RAV4 Limited AWD', 'RAV4 Limited AWD/SE AWD', 'RAV4 Soft Top 2WD', 'RAV4 Soft Top 4WD', 'Sequoia 2WD', 'Sequoia 4WD', 'Sequoia 4WD FFV', 'Sienna 2WD', 'Sienna 4WD', 'Sienna AWD', 'Supra', 'T100 2WD', 'T100 4WD', 'Tacoma 2WD', 'Tacoma 4WD', 'Tacoma 4WD Double Cab', 'Tercel', 'Tercel EZ', 'Tercel Wagon', 'Tercel Wagon 2WD', 'Tercel Wagon 4WD', 'Truck 2WD', 'Truck 2WD/T100 2WD', 'Truck 4WD', 'Truck 4WD/T100 4WD', 'Tundra 2WD', 'Tundra 2WD FFV', 'Tundra 4WD', 'Tundra 4WD FFV', 'Van 2WD', 'Van 2WD (cargo)', 'Van 2WD (passenger)', 'Van 4WD', 'Van 4WD (cargo)', 'Van 4WD (passenger)', 'Venza', 'Venza 4WD', 'Venza AWD', 'Yaris', 'Yaris iA']\n"
          ]
        }
      ]
    },
    {
      "cell_type": "markdown",
      "source": [
        "##Q5. Calculate the changes in Combined MPG with their previous model of all Golf cars with Manual 5-spd transmission and Regular Fuel Type. Show the Year, the Combined MPG and the calculated difference of MPG in a list sorted by Year in ascending order.\n",
        "\n",
        "##### Format: A 19X3 list, with the Year and Combined MPG being of type integer **and only the calculated difference is of type float**\n",
        "##### **Note: The value for the first model should be 0.** It does not matter that there are gaps in the years, calculate with respect the previous model.\n",
        "\n",
        "#####Example answer:\n",
        "\n",
        "\n",
        "\n",
        "```\n",
        "[[1986, 25, 0.0],\n",
        " [1987, 25, 0.0],\n",
        " [1988, 25, 0.0],\n",
        " [1989, 25, 0.0],\n",
        " [1990, 23, -2.0],\n",
        " [1991, 23, 0.0],\n",
        " [1992, 24, 1.0],\n",
        " [1993, 25, 1.0],\n",
        " [1994, 25, 0.0],\n",
        " [1995, 25, 0.0],\n",
        " [1996, 25, 0.0],\n",
        " [1997, 25, 0.0],\n",
        " [1998, 24, -1.0],\n",
        " [1999, 25, 1.0],\n",
        " [2000, 24, -1.0],\n",
        " [2001, 24, 0.0],\n",
        " [2002, 24, 0.0],\n",
        " [2004, 24, 0.0],\n",
        " [2006, 24, 0.0]]\n",
        "```\n",
        "\n",
        "\n",
        "\n"
      ],
      "metadata": {
        "id": "7eCpEljJnXzt"
      }
    },
    {
      "cell_type": "markdown",
      "source": [
        ""
      ],
      "metadata": {
        "id": "2Ov9n2--m4HD"
      }
    },
    {
      "cell_type": "code",
      "source": [
        "########## Q5\n",
        "#Your code here\n",
        "import pandas as pd\n",
        "import numpy as np\n",
        "url='https://drive.google.com/file/d/1PCJ7ltluquoXKi6MYTPMfwZQNI_-MIFP/view?usp=sharing'\n",
        "url='https://drive.google.com/uc?id=' + url.split('/')[-2]\n",
        "df = pd.read_csv(url)\n",
        "\n",
        "Tabla2 = df.loc[(df.Model == \"Golf\") & (df.Transmission == \"Manual 5-spd\") & (df[\"Fuel Type\"] == \"Regular\")]\n",
        "Tabla2[\"Cambio\"] = Tabla2[\"Combined MPG\"].diff()\n",
        "Tabla2['Cambio'] =Tabla2['Cambio'].fillna(0)\n",
        "Tabla2 =Tabla2[[\"Year\",\"Combined MPG\",\"Cambio\"]]\n",
        "\n",
        "Tabla2.values.tolist()\n"
      ],
      "metadata": {
        "id": "lMlKfEWUH3S9",
        "colab": {
          "base_uri": "https://localhost:8080/"
        },
        "outputId": "2d13d352-a7de-4787-d1d5-aff189118197"
      },
      "execution_count": 222,
      "outputs": [
        {
          "output_type": "stream",
          "name": "stderr",
          "text": [
            "/usr/local/lib/python3.7/dist-packages/ipykernel_launcher.py:10: SettingWithCopyWarning: \n",
            "A value is trying to be set on a copy of a slice from a DataFrame.\n",
            "Try using .loc[row_indexer,col_indexer] = value instead\n",
            "\n",
            "See the caveats in the documentation: https://pandas.pydata.org/pandas-docs/stable/user_guide/indexing.html#returning-a-view-versus-a-copy\n",
            "  # Remove the CWD from sys.path while we load stuff.\n",
            "/usr/local/lib/python3.7/dist-packages/ipykernel_launcher.py:11: SettingWithCopyWarning: \n",
            "A value is trying to be set on a copy of a slice from a DataFrame.\n",
            "Try using .loc[row_indexer,col_indexer] = value instead\n",
            "\n",
            "See the caveats in the documentation: https://pandas.pydata.org/pandas-docs/stable/user_guide/indexing.html#returning-a-view-versus-a-copy\n",
            "  # This is added back by InteractiveShellApp.init_path()\n"
          ]
        },
        {
          "output_type": "execute_result",
          "data": {
            "text/plain": [
              "[[1986.0, 26.0, 0.0],\n",
              " [1987.0, 26.0, 0.0],\n",
              " [1988.0, 25.0, -1.0],\n",
              " [1989.0, 25.0, 0.0],\n",
              " [1999.0, 24.0, -1.0],\n",
              " [2000.0, 24.0, 0.0],\n",
              " [2001.0, 24.0, 0.0],\n",
              " [2002.0, 24.0, 0.0],\n",
              " [2003.0, 24.0, 0.0],\n",
              " [2004.0, 24.0, 0.0],\n",
              " [2005.0, 24.0, 0.0],\n",
              " [2006.0, 24.0, 0.0],\n",
              " [2010.0, 25.0, 1.0],\n",
              " [2011.0, 26.0, 1.0],\n",
              " [2012.0, 26.0, 0.0],\n",
              " [2013.0, 26.0, 0.0],\n",
              " [2015.0, 30.0, 4.0],\n",
              " [2016.0, 30.0, 0.0],\n",
              " [2017.0, 29.0, -1.0]]"
            ]
          },
          "metadata": {},
          "execution_count": 222
        }
      ]
    },
    {
      "cell_type": "code",
      "source": [
        ""
      ],
      "metadata": {
        "id": "1yP6Mr4Rq7F3"
      },
      "execution_count": 3,
      "outputs": []
    },
    {
      "cell_type": "markdown",
      "source": [
        "##Q6. What are the top 5 lowest CO2 Emission Grams/Mile emmisions of cars for each of the following brands: Toyota, Ford, Volkswagen, Nissan, Honda\n",
        "\n",
        "#####Format: A 5X6 list with the first element of each row being the Make of the cars and the following five values being floats sorted in ascending order. The Makes should appear in order listed in the question starting with Toyota and ending with Honda (see example).\n",
        "\n",
        "#####Example answer:\n",
        "\n",
        "```\n",
        "[['Toyota', 100.0, 140.0, 140.0, 150.0, 150.0],\n",
        " ['Ford',\n",
        "  100.025641025641,\n",
        "  200.677633075759575,\n",
        "  200.677633075759575,\n",
        "  200.677633075759575,\n",
        "  200.677633075759575],\n",
        " ['Volkswagen', 139.0, 154.0, 166.5, 166.5, 166.5],\n",
        " ['Nissan', 122.0, 122.0, 122.0, 122.0, 160.0],\n",
        " ['Honda', 100.0, 100.0, 100.0, 100.0, 123.91684618442447]]\n",
        "```\n",
        "\n",
        "\n",
        "\n",
        "\n"
      ],
      "metadata": {
        "id": "EnHdqUs-nagE"
      }
    },
    {
      "cell_type": "code",
      "source": [
        "import pandas as pd\n",
        "import numpy as np\n",
        "url='https://drive.google.com/file/d/1PCJ7ltluquoXKi6MYTPMfwZQNI_-MIFP/view?usp=sharing'\n",
        "url='https://drive.google.com/uc?id=' + url.split('/')[-2]\n",
        "df = pd.read_csv(url)\n",
        "listaC02 = list()\n",
        "Marca = (\"Toyota\", \"Ford\", \"Volkswagen\", \"Nissan\", \"Honda\")\n",
        "df.sort_values(by=['CO2 Emission Grams/Mile'], inplace=True) \n",
        "df1 = pd.DataFrame(columns=Marca)\n",
        "for row in Marca:\n",
        " \n",
        "  tabla1= df.loc[df.Make == row]\n",
        "  tabla1 =tabla1[\"CO2 Emission Grams/Mile\"].unique()\n",
        "  datos = tabla1[0:5]\n",
        "  listaC02.append(datos)\n",
        "  \n",
        "  df1[row] = datos\n",
        "\n",
        "\n",
        "df1.values.tolist()\n",
        "\n",
        "[[\"Toyota\",133.0, 112.0, 200.0, 249.0, 130.0],\n",
        " [\"Ford\",158.0, 129.0, 261.025641025641, 254.0, 167.67924528301887],\n",
        " [\"Volkswagen\",170.0, 209.0, 267.8947368421053, 254.5, 170.90384615384616],\n",
        " [\" Nissan\",171.0, 210.0, 271.0, 255.0, 183.0],\n",
        " [\"Honda\",177.74, 211.0, 275.1351351351352, 257.0, 188.0]]\n",
        "\n",
        "#  [Toyota   Ford  Volkswagen  Nissan       Honda\n",
        "# 133.00  112.0  200.000000   249.0  130.000000\n",
        "#  158.00  129.0  261.025641   254.0  167.679245\n",
        "#  170.00  209.0  267.894737   254.5  170.903846\n",
        "#  171.00  210.0  271.000000   255.0  183.000000\n",
        "#  177.74  211.0  275.135135   257.0  188.000000"
      ],
      "metadata": {
        "id": "8KKg3bT6na41",
        "colab": {
          "base_uri": "https://localhost:8080/"
        },
        "outputId": "93c823f0-1a30-4c60-d513-890125e0328f"
      },
      "execution_count": 232,
      "outputs": [
        {
          "output_type": "execute_result",
          "data": {
            "text/plain": [
              "[[133.0, 112.0, 200.0, 249.0, 130.0],\n",
              " [158.0, 129.0, 261.025641025641, 254.0, 167.67924528301887],\n",
              " [170.0, 209.0, 267.8947368421053, 254.5, 170.90384615384616],\n",
              " [171.0, 210.0, 271.0, 255.0, 183.0],\n",
              " [177.74, 211.0, 275.1351351351352, 257.0, 188.0]]"
            ]
          },
          "metadata": {},
          "execution_count": 232
        }
      ]
    },
    {
      "cell_type": "markdown",
      "source": [
        "##Q7. Form 7 groups of 5 years to calculated the median Combined MPG of each group. The first group is from 1984 to 1988, the second from 1989 to 1993 and so on. The last group will have years not appearing in the dataset.\n",
        "\n",
        "#####Note: The groups ranges are inclusive on both sides, the first group starts with 1984 and cars from 1984 are included in it.\n",
        "#####Format : A 7X2 list with the first element of each row being a tuple of two integers being the lower and uppper range of the year groups and the esecond element being the median Combined MPG of that group, a float number.\n",
        "\n",
        "#####Example answer:\n",
        "\n",
        "\n",
        "```\n",
        "[[(1984, 1988), 11.0],\n",
        " [(1989, 1993), 10.0],\n",
        " [(1994, 1998), 10.0],\n",
        " [(1999, 2003), 14.0],\n",
        " [(2004, 2008), 13.0],\n",
        " [(2009, 2013), 14.0],\n",
        " [(2014, 2018), 15.0]]\n",
        "```\n",
        "\n"
      ],
      "metadata": {
        "id": "gDNo1Fcesgk5"
      }
    },
    {
      "cell_type": "code",
      "source": [
        "import pandas as pd\n",
        "import numpy as np\n",
        "url='https://drive.google.com/file/d/1PCJ7ltluquoXKi6MYTPMfwZQNI_-MIFP/view?usp=sharing'\n",
        "url='https://drive.google.com/uc?id=' + url.split('/')[-2]\n",
        "df = pd.read_csv(url)\n",
        "df = df[(df['Year'] >= 1984) & (df['Year'] <= 2018)]\n",
        "period_length = 5 \n",
        "start_year = 1984\n",
        "end_year = 2018\n",
        "\n",
        "year_range = end_year - start_year\n",
        "modulo = year_range % period_length\n",
        "\n",
        "if modulo == 0:\n",
        "    final_start = end_year - period_length\n",
        "else:\n",
        "    final_start = end_year - modulo\n",
        "final_end = end_year + 1\n",
        "\n",
        "starts = np.arange(start_year, final_start, period_length).tolist()\n",
        "\n",
        "tuples = [(start, start+period_length) for start in starts]\n",
        "\n",
        "tuples.append(tuple([final_start, final_end]))\n",
        "bins = pd.IntervalIndex.from_tuples(tuples, closed='left')\n",
        "\n",
        "original_labels = list(bins.astype(str))\n",
        "new_labels = ['{} - {}'.format(b.strip('[)').split(', ')[0], int(b.strip('[)').split(', ')[1])-1) for b in original_labels]\n",
        "label_dict = dict(zip(original_labels, new_labels))\n",
        "\n",
        "\n",
        "\n",
        "\n",
        "\n",
        "df['PERIOD'] = pd.cut(df['Year'], include_lowest=True, precision=0,bins= bins)\n",
        "df['PERIOD'] = df['PERIOD'].astype(\"str\")\n",
        "df = df.replace(label_dict)\n",
        "df = df.groupby('PERIOD').mean().reset_index().drop('Year', axis=1)\n",
        "df = df[[\"PERIOD\",\"Combined MPG\"]]\n",
        "df.values.tolist()"
      ],
      "metadata": {
        "id": "1cMEyFXVxBU3",
        "colab": {
          "base_uri": "https://localhost:8080/"
        },
        "outputId": "bc314ad2-88c3-4b02-9074-1593d1f64d7f"
      },
      "execution_count": 236,
      "outputs": [
        {
          "output_type": "execute_result",
          "data": {
            "text/plain": [
              "[['1984 - 1988', 19.230849764439014],\n",
              " ['1989 - 1993', 18.991274313761135],\n",
              " ['1994 - 1998', 19.225285171102662],\n",
              " ['1999 - 2003', 19.160808435852374],\n",
              " ['2004 - 2008', 19.07731595632265],\n",
              " ['2009 - 2013', 21.006466270534776],\n",
              " ['2014 - 2018', 23.064912280701755]]"
            ]
          },
          "metadata": {},
          "execution_count": 236
        }
      ]
    },
    {
      "cell_type": "code",
      "source": [
        ""
      ],
      "metadata": {
        "id": "OjAsbR6Sr1vz"
      },
      "execution_count": null,
      "outputs": []
    },
    {
      "cell_type": "markdown",
      "source": [
        "##Test your answers\n",
        "\n",
        "##### We provide you some tests to make sure your answer dictionary is in the correct format using unittest.\n",
        "##### These tests are not meant to be comprehensive, you should review all your answers carefully."
      ],
      "metadata": {
        "id": "LiGydnlQ4cX4"
      }
    },
    {
      "cell_type": "code",
      "source": [
        "import unittest\n",
        "\n",
        "class TestAnswers(unittest.TestCase):\n",
        "    def test_if_dict(self):\n",
        "        self.assertIsInstance(answer_dict, dict)\n",
        "\n",
        "    def test_keys(self):\n",
        "        self.assertEqual(list(answer_dict.keys()), ['Q1', 'Q2', 'Q3', 'Q4', 'Q5', 'Q6', 'Q7'])\n",
        "\n",
        "    def test_answers_types(self):\n",
        "        types_values = [type(k) for k in answer_dict.values()]\n",
        "        answer_types = [float, list, list, list, list, list, list]\n",
        "        self.assertEqual(types_values, answer_types)\n",
        "\n",
        "    def test_Q1(self):\n",
        "        self.assertEqual(type(answer_dict['Q1']), float)\n",
        "\n",
        "    def test_Q2_dim(self):\n",
        "        self.assertEqual(np.array(answer_dict['Q2']).shape, (5,2))\n",
        "\n",
        "    def test_Q2_types(self):\n",
        "        dtype1 = type(answer_dict['Q2'][0][0])\n",
        "        dtype2 = type(answer_dict['Q2'][0][1])\n",
        "        self.assertEqual([dtype1, dtype2], [str, int])\n",
        "\n",
        "    def test_Q3_types(self):\n",
        "        q3_types = set([type(item) for item in answer_dict['Q3']])\n",
        "        self.assertEqual(q3_types, {str})\n",
        "\n",
        "    def test_Q4_dim(self):\n",
        "        self.assertEqual(np.array(answer_dict['Q4']).shape, (9,3))\n",
        "\n",
        "    def test_Q4_types(self):\n",
        "        dtype1 = type(answer_dict['Q4'][0][0])\n",
        "        dtype2 = type(answer_dict['Q4'][0][1])\n",
        "        dtype3 = type(answer_dict['Q4'][0][2])\n",
        "        self.assertEqual([dtype1, dtype2, dtype3], [str, int, float])\n",
        "\n",
        "    def test_Q5_dim(self):\n",
        "        self.assertEqual(np.array(answer_dict['Q5']).shape, (19,3))\n",
        "\n",
        "    def test_Q5_types(self):\n",
        "        dtype1 = type(answer_dict['Q5'][0][0])\n",
        "        dtype2 = type(answer_dict['Q5'][0][1])\n",
        "        dtype3 = type(answer_dict['Q5'][0][2])\n",
        "        self.assertEqual([dtype1, dtype2, dtype3], [int, int, float])\n",
        "\n",
        "    def test_Q5_first_zero(self):\n",
        "        self.assertEqual(answer_dict['Q5'][0][2], 0)\n",
        "\n",
        "\n",
        "    def test_Q6_dim(self):\n",
        "        self.assertEqual(np.array(answer_dict['Q6']).shape, (5,6))\n",
        "\n",
        "    def test_Q5_types(self):\n",
        "        dtype1 = type(answer_dict['Q6'][0][0])\n",
        "        dtype2 = type(answer_dict['Q6'][0][1])\n",
        "        dtype3 = type(answer_dict['Q6'][0][2])\n",
        "        dtype4 = type(answer_dict['Q6'][0][3])\n",
        "        dtype5 = type(answer_dict['Q6'][0][4])\n",
        "        dtype6 = type(answer_dict['Q6'][0][5])\n",
        "        self.assertEqual([dtype1, dtype2, dtype3, dtype4, dtype5, dtype6], [str, float, float, float, float, float])\n",
        "\n",
        "    def test_Q6_check_first_and_last_brand(self):\n",
        "        first_brand = answer_dict['Q6'][0][0]\n",
        "        last_brand = answer_dict['Q6'][4][0]\n",
        "\n",
        "        self.assertEqual([first_brand, last_brand], [\"Toyota\", \"Honda\"])\n",
        "\n",
        "    def test_Q7_dim(self):\n",
        "        self.assertEqual(np.array(answer_dict['Q7'], dtype=object).shape, (7,2))\n",
        "\n",
        "    def test_Q7_types(self):\n",
        "        dtype1 = type(answer_dict['Q7'][0][0])\n",
        "        dtype2 = type(answer_dict['Q7'][0][1])\n",
        "        self.assertEqual([dtype1, dtype2], [tuple, float])\n",
        "\n",
        "unittest.main(argv=[''], verbosity=2, exit=False)"
      ],
      "metadata": {
        "id": "iNwVFmHZ4csn",
        "colab": {
          "base_uri": "https://localhost:8080/"
        },
        "outputId": "3c16c149-7ed1-4e37-cfe2-8b07540f3845"
      },
      "execution_count": 246,
      "outputs": [
        {
          "output_type": "stream",
          "name": "stderr",
          "text": [
            "test_Q1 (__main__.TestAnswers) ... ok\n",
            "test_Q2_dim (__main__.TestAnswers) ... ok\n",
            "test_Q2_types (__main__.TestAnswers) ... ok\n",
            "test_Q3_types (__main__.TestAnswers) ... ok\n",
            "test_Q4_dim (__main__.TestAnswers) ... ok\n",
            "test_Q4_types (__main__.TestAnswers) ... ok\n",
            "test_Q5_dim (__main__.TestAnswers) ... ok\n",
            "test_Q5_first_zero (__main__.TestAnswers) ... ok\n",
            "test_Q5_types (__main__.TestAnswers) ... ok\n",
            "test_Q6_check_first_and_last_brand (__main__.TestAnswers) ... ok\n",
            "test_Q6_dim (__main__.TestAnswers) ... ok\n",
            "test_Q7_dim (__main__.TestAnswers) ... ok\n",
            "test_Q7_types (__main__.TestAnswers) ... FAIL\n",
            "test_answers_types (__main__.TestAnswers) ... ok\n",
            "test_if_dict (__main__.TestAnswers) ... ok\n",
            "test_keys (__main__.TestAnswers) ... ok\n",
            "\n",
            "======================================================================\n",
            "FAIL: test_Q7_types (__main__.TestAnswers)\n",
            "----------------------------------------------------------------------\n",
            "Traceback (most recent call last):\n",
            "  File \"<ipython-input-246-ea466fca2033>\", line 76, in test_Q7_types\n",
            "    self.assertEqual([dtype1, dtype2], [tuple, float])\n",
            "AssertionError: Lists differ: [<class 'str'>, <class 'float'>] != [<class 'tuple'>, <class 'float'>]\n",
            "\n",
            "First differing element 0:\n",
            "<class 'str'>\n",
            "<class 'tuple'>\n",
            "\n",
            "- [<class 'str'>, <class 'float'>]\n",
            "?          - ^\n",
            "\n",
            "+ [<class 'tuple'>, <class 'float'>]\n",
            "?           ^^^^\n",
            "\n",
            "\n",
            "----------------------------------------------------------------------\n",
            "Ran 16 tests in 0.055s\n",
            "\n",
            "FAILED (failures=1)\n"
          ]
        },
        {
          "output_type": "execute_result",
          "data": {
            "text/plain": [
              "<unittest.main.TestProgram at 0x7fc928697e10>"
            ]
          },
          "metadata": {},
          "execution_count": 246
        }
      ]
    },
    {
      "cell_type": "markdown",
      "source": [
        "##Save your answers\n",
        "\n",
        "\n",
        "##### First, take a moment to evaluate your answers and make sure you have not missed anything\n",
        "\n",
        "##### Use the following code to save your answers in pickle format, change the filename using the following format:\n",
        "##### FIRSTNAME_LASTNAME_answers.pkl\n",
        "##### Example: Juan_Perez_answers.pkl\n",
        "\n",
        "##### If you are using google colab you can find your file on the left side bar by clicking the folder icon inside the sample_data folder. Remember to upload the pickle file and the notebook to github and submit their URLs to the [google form](https://forms.gle/wWysZEMkoZsjB11Y7)."
      ],
      "metadata": {
        "id": "O_Wx_D0kGjmc"
      }
    },
    {
      "cell_type": "code",
      "source": [
        "answer_dict"
      ],
      "metadata": {
        "id": "nCzU1sKMknfH"
      },
      "execution_count": null,
      "outputs": []
    },
    {
      "cell_type": "code",
      "source": [
        "import pickle\n",
        "\n",
        "file_name = \"Aldo_Gutierrez_answers.pkl\"\n",
        "path = \"\"\n",
        "\n",
        "with open(path+file_name, 'wb') as f:\n",
        "    pickle.dump(answer_dict, f, protocol=pickle.HIGHEST_PROTOCOL)"
      ],
      "metadata": {
        "id": "dEZ-vo0QGTeu"
      },
      "execution_count": 247,
      "outputs": []
    }
  ]
}